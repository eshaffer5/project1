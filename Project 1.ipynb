{
 "cells": [
  {
   "cell_type": "code",
   "execution_count": 15,
   "metadata": {},
   "outputs": [
    {
     "name": "stdout",
     "output_type": "stream",
     "text": [
      "Welcome to the calculator\n",
      "Would you like to add, subtract, multiply, or divide?\n",
      "Enter '1' to add, '2' to subtract, '3' to multipy, '4' to divide, '5' for exponentiation, or '6' to take a square root\n",
      "Enter the number of the operation you would like the calculator to perform: 5\n",
      "Enter the first number you would like to be the base: 5\n",
      "Enter the second number you would like to be the power the base goes to: 3\n",
      "5 to the power of 3 equals 125\n"
     ]
    }
   ],
   "source": [
    "print(\"Welcome to the calculator\")\n",
    "print(\"Would you like to add, subtract, multiply, or divide?\")\n",
    "print(\"Enter '1' to add, '2' to subtract, '3' to multipy, '4' to divide, '5' for exponentiation, or '6' to take a square root\")\n",
    "#Used numbers rather than words to simplify the process for the user\n",
    "choice = input(\"Enter the number of the operation you would like the calculator to perform: \")\n",
    "\n",
    "if choice == \"1\": \n",
    "    #Code for addition operator\n",
    "    addnum1 = input(\"Enter the first number you would like to add: \")\n",
    "    addnum2 = input(\"Enter the second number you would like to add: \")\n",
    "    addsolution = int(addnum1) + int(addnum2)\n",
    "    print(str(addnum1) + \" plus \" + str(addnum2) + \" equals \" + str(addsolution))\n",
    "    #Added statements in the final print sequence to help the user understand what the program is doing\n",
    "    \n",
    "elif choice == \"2\":\n",
    "    #Code for subtraction operator\n",
    "    subnum1 = input(\"Enter the first number you would like the second number to be subtracted from: \")\n",
    "    subnum2 = input(\"Enter the second number you would like to subtract from the first number: \")\n",
    "    subsolution = int(subnum1) - int(subnum2)\n",
    "    #Named all the vairables very similarly so that they would be easy to keep track of\n",
    "    print(str(subnum1) + \" minus \" + str(subnum2) + \" equals \" + str(subsolution))\n",
    "    \n",
    "elif choice == \"3\":\n",
    "    #Code for multiplication operator\n",
    "    multnum1 = input(\"Enter the first number you would like to multiply: \")\n",
    "    multnum2 = input(\"Enter the second number you would like to multiply: \")\n",
    "    #Multiplication and addition proved to be more straightforward than division and subtraction, hence the better worded inputs\n",
    "    multsolution = int(multnum1) * int(multnum2)\n",
    "    print(str(multnum1) + \" times \" + str(multnum2) + \" equals \" + str(multsolution)) \n",
    "    \n",
    "elif choice == \"4\":\n",
    "    #Code for division operator\n",
    "    divnum1 = input(\"Enter the first number you would like to divide by the second number, the dividend: \")\n",
    "    divnum2 = input(\"Enter the second number you would like to divide the first number by, the divisor: \")\n",
    "    divsolution = int(divnum1) / int(divnum2)\n",
    "    print(str(divnum1) + \" divided by \" + str(divnum2) + \" equals \" + str(divsolution)) \n",
    "    \n",
    "elif choice == \"5\":\n",
    "    #Added exponentials as an additional operator\n",
    "    expnum1 = input(\"Enter the first number you would like to be the base: \")\n",
    "    expnum2 = input(\"Enter the second number you would like to be the power the base goes to: \")\n",
    "    expsolution = int(expnum1) ** int(expnum2)\n",
    "    print(str(expnum1) + \" to the power of \" + str(expnum2) + \" equals \" + str(expsolution)) \n",
    "    \n",
    "elif choice == \"6\":\n",
    "    #Added square roots as an even further operation\n",
    "    import math #Had to use 'import math' to be able to utilize math.sqrt\n",
    "    rootnum1 = input(\"Enter the number you would like to take the square root of: \")\n",
    "    rootsolution = math.sqrt(int(rootnum1)) \n",
    "    #Wanted to add more root functionality but square root was the only one I could figure out\n",
    "    print(\"The square root of \" + str(rootnum1) + \" is \" + str(rootsolution))\n",
    "    \n",
    "else:\n",
    "    print(\"Sorry the input does not match a supported operation, please check the number you input and try again\")\n",
    "#Added an else statement as a catch all in case someone mistyped a number or entered a number that isn't supported\n",
    "#Most of my code is extremely straightforward which made adding comments difficult\n",
    "#The variables and operators explains almost all of the code itself"
   ]
  },
  {
   "cell_type": "code",
   "execution_count": null,
   "metadata": {},
   "outputs": [],
   "source": []
  }
 ],
 "metadata": {
  "kernelspec": {
   "display_name": "Python 3",
   "language": "python",
   "name": "python3"
  },
  "language_info": {
   "codemirror_mode": {
    "name": "ipython",
    "version": 3
   },
   "file_extension": ".py",
   "mimetype": "text/x-python",
   "name": "python",
   "nbconvert_exporter": "python",
   "pygments_lexer": "ipython3",
   "version": "3.8.5"
  }
 },
 "nbformat": 4,
 "nbformat_minor": 4
}
